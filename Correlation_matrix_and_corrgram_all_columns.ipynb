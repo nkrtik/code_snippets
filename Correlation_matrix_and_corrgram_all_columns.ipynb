{
 "cells": [
  {
   "cell_type": "code",
   "execution_count": null,
   "id": "ba09f9f1",
   "metadata": {},
   "outputs": [],
   "source": [
    "# Importing necessary libraries\n",
    "import pandas as pd\n",
    "import seaborn as sns\n",
    "import matplotlib.pyplot as plt\n",
    "import numpy as np\n",
    "import mpld3\n",
    "\n",
    "# Assuming df is your DataFrame\n",
    "# df = pd.read_csv(\"your_data.csv\")  # Un-comment this line to read data from a CSV file\n",
    "\n",
    "# Convert categorical variable into dummy/indicator variables or (binary variables) essentially 1s and 0s\n",
    "df_encoded = pd.get_dummies(df)\n",
    "\n",
    "# Calculate correlations on the encoded DataFrame\n",
    "correlation_matrix = df_encoded.corr()\n",
    "\n",
    "# Save correlation_matrix to an excel file\n",
    "correlation_matrix.to_excel(\"correlation_matrix.xlsx\")\n",
    "\n",
    "# Create a mask to hide the upper triangle of the correlation matrix (which is symmetric)\n",
    "mask = np.triu(np.ones_like(correlation_matrix, dtype=bool))\n",
    "\n",
    "# Create a custom diverging colormap\n",
    "cmap = sns.diverging_palette(230, 20, as_cmap=True)\n",
    "\n",
    "# Draw the heatmap with the mask and correct aspect ratio\n",
    "fig, ax = plt.subplots(figsize=(20, 20))  # Adjust size as needed\n",
    "sns.heatmap(correlation_matrix, mask=mask, cmap=cmap, vmax=1, center=0,\n",
    "            square=True, linewidths=.5, cbar_kws={\"shrink\": .5}, annot=False) # Set annot=False\n",
    "\n",
    "plt.title('Correlation matrix of all fields', fontsize=16)\n",
    "\n",
    "# Convert plot to HTML and save\n",
    "mpld3.save_html(fig, \"heatmap.html\")\n"
   ]
  }
 ],
 "metadata": {
  "kernelspec": {
   "display_name": "Python 3 (ipykernel)",
   "language": "python",
   "name": "python3"
  },
  "language_info": {
   "codemirror_mode": {
    "name": "ipython",
    "version": 3
   },
   "file_extension": ".py",
   "mimetype": "text/x-python",
   "name": "python",
   "nbconvert_exporter": "python",
   "pygments_lexer": "ipython3",
   "version": "3.10.9"
  }
 },
 "nbformat": 4,
 "nbformat_minor": 5
}
