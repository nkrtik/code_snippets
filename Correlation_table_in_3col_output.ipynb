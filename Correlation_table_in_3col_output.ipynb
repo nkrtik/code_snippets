{
 "cells": [
  {
   "cell_type": "code",
   "execution_count": null,
   "id": "f5314c7f",
   "metadata": {},
   "outputs": [],
   "source": [
    "# Select the numeric columns from the DataFrame\n",
    "numeric_columns = df.select_dtypes(include=[float, int]).columns\n",
    "\n",
    "# Compute the correlation matrix\n",
    "corr_matrix = df[numeric_columns].corr()\n",
    "\n",
    "# Reset the index of the correlation matrix\n",
    "corr_matrix = corr_matrix.reset_index()\n",
    "\n",
    "# Melt the correlation matrix dataframe into two columns\n",
    "melted_corr = pd.melt(corr_matrix, id_vars='index', var_name='column', value_name='correlation')\n",
    "\n",
    "# Rename the index column\n",
    "melted_corr = melted_corr.rename(columns={'index': 'variable1'})\n",
    "\n",
    "# Sort the melted correlation dataframe\n",
    "sorted_corr = melted_corr.sort_values('correlation')\n",
    "sorted_corr"
   ]
  }
 ],
 "metadata": {
  "kernelspec": {
   "display_name": "Python 3 (ipykernel)",
   "language": "python",
   "name": "python3"
  },
  "language_info": {
   "codemirror_mode": {
    "name": "ipython",
    "version": 3
   },
   "file_extension": ".py",
   "mimetype": "text/x-python",
   "name": "python",
   "nbconvert_exporter": "python",
   "pygments_lexer": "ipython3",
   "version": "3.10.9"
  }
 },
 "nbformat": 4,
 "nbformat_minor": 5
}
