{
 "cells": [
  {
   "cell_type": "code",
   "execution_count": null,
   "id": "bd6e5735",
   "metadata": {},
   "outputs": [],
   "source": [
    "import pandas as pd\n",
    "# Assuming you already have a DataFrame named 'df'\n",
    "# If not, you can create one using pandas read_csv or read_excel functions\n",
    "\n",
    "# Example usage:\n",
    "# result_df = get_unique_value_counts(df)\n",
    "# print(result_df)\n",
    "\n",
    "def get_unique_value_counts(df):\n",
    "    unique_values_counts = []\n",
    "    for column in df.columns:\n",
    "        unique_values = df[column].unique()\n",
    "        unique_count = len(unique_values)\n",
    "        unique_values_counts.append((column, unique_values, unique_count))\n",
    "\n",
    "    result_df = pd.DataFrame(unique_values_counts, columns=[\"Field\", \"Unique_Values\", \"Count\"])\n",
    "    return result_df\n",
    "\n",
    "unique_values_counts = get_unique_value_counts(df)\n",
    "unique_values_counts\n",
    "\n",
    "# Specify the path and name of your Excel file\n",
    "path = \"unique_values_counts.xlsx\"\n",
    "\n",
    "# Use the to_excel function to write the DataFrame to an Excel file\n",
    "unique_values_counts.to_excel(path, index=False)  # Set index=False to not write row indices"
   ]
  }
 ],
 "metadata": {
  "kernelspec": {
   "display_name": "Python 3 (ipykernel)",
   "language": "python",
   "name": "python3"
  },
  "language_info": {
   "codemirror_mode": {
    "name": "ipython",
    "version": 3
   },
   "file_extension": ".py",
   "mimetype": "text/x-python",
   "name": "python",
   "nbconvert_exporter": "python",
   "pygments_lexer": "ipython3",
   "version": "3.10.9"
  }
 },
 "nbformat": 4,
 "nbformat_minor": 5
}
