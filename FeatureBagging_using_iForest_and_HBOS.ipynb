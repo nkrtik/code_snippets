{
 "cells": [
  {
   "cell_type": "markdown",
   "id": "2697b8ef",
   "metadata": {},
   "source": [
    "This script initializes two FeatureBagging models, one with IForest and the other with HBOS as the base detectors. They're fitted on the scaled data, and the outlier scores are obtained from each model. The final outlier scores are the average of these two sets of scores. The indices of the top N outliers are then used to select the corresponding features from the original dataframe.\n",
    "\n",
    "Remember, this approach focuses on finding the features most related to the outliers detected by the feature bagging approach, not on selecting the most representative features for the dataset."
   ]
  },
  {
   "cell_type": "code",
   "execution_count": null,
   "id": "a7d6c579",
   "metadata": {},
   "outputs": [],
   "source": [
    "from pyod.models.feature_bagging import FeatureBagging\n",
    "from pyod.models.iforest import IForest\n",
    "from pyod.models.hbos import HBOS\n",
    "from sklearn.preprocessing import StandardScaler\n",
    "import pandas as pd\n",
    "\n",
    "# Scaling the data\n",
    "scaler = StandardScaler()\n",
    "df_scaled = pd.DataFrame(scaler.fit_transform(df), columns=df.columns)\n",
    "\n",
    "# Define the number of top features to select\n",
    "N = 10\n",
    "\n",
    "# Initialize the base detectors\n",
    "iforest = IForest()\n",
    "hbos = HBOS()\n",
    "\n",
    "# Initialize the feature bagging detectors\n",
    "fb_iforest = FeatureBagging(iforest, contamination=0.01, check_estimator=False, random_state=10)\n",
    "fb_hbos = FeatureBagging(hbos, contamination=0.01, check_estimator=False, random_state=10)\n",
    "\n",
    "# Fit the models\n",
    "fb_iforest.fit(df_scaled)\n",
    "fb_hbos.fit(df_scaled)\n",
    "\n",
    "# Get the outlier scores\n",
    "outlier_scores_iforest = fb_iforest.decision_function(df_scaled)\n",
    "outlier_scores_hbos = fb_hbos.decision_function(df_scaled)\n",
    "\n",
    "# Combine the outlier scores\n",
    "combined_outlier_scores = (outlier_scores_iforest + outlier_scores_hbos) / 2\n",
    "\n",
    "# Get the indices of the top N features\n",
    "top_N_indices = combined_outlier_scores.argsort()[-N:]\n",
    "\n",
    "# Select these features from the original dataframe\n",
    "df_reduced = df.iloc[:, top_N_indices]\n"
   ]
  }
 ],
 "metadata": {
  "kernelspec": {
   "display_name": "Python 3 (ipykernel)",
   "language": "python",
   "name": "python3"
  },
  "language_info": {
   "codemirror_mode": {
    "name": "ipython",
    "version": 3
   },
   "file_extension": ".py",
   "mimetype": "text/x-python",
   "name": "python",
   "nbconvert_exporter": "python",
   "pygments_lexer": "ipython3",
   "version": "3.10.9"
  }
 },
 "nbformat": 4,
 "nbformat_minor": 5
}
