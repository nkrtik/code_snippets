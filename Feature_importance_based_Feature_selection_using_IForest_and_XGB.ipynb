{
 "cells": [
  {
   "cell_type": "markdown",
   "id": "c296131a",
   "metadata": {},
   "source": [
    "In this script, IForest and XGBOD models from PyOD library are fitted on the scaled data. Feature importance scores are then obtained using the feature_importances_ attribute of each model. The final importance scores are calculated as the average of these two sets of scores. The indices of the top N features are then used to select the corresponding features from the original dataframe."
   ]
  },
  {
   "cell_type": "code",
   "execution_count": null,
   "id": "c9a0fba9",
   "metadata": {},
   "outputs": [],
   "source": [
    "from pyod.models.iforest import IForest\n",
    "from pyod.models.xgbod import XGBOD\n",
    "from sklearn.preprocessing import StandardScaler\n",
    "import pandas as pd\n",
    "\n",
    "# Scaling the data\n",
    "scaler = StandardScaler()\n",
    "df_scaled = pd.DataFrame(scaler.fit_transform(df), columns=df.columns)\n",
    "\n",
    "# Fit the Isolation Forest model\n",
    "iso = IForest()\n",
    "iso.fit(df_scaled)\n",
    "\n",
    "# Get feature importances from Isolation Forest\n",
    "iso_importances = iso.estimator_.feature_importances_\n",
    "\n",
    "# Fit the XGBOD model\n",
    "xgb = XGBOD()\n",
    "xgb.fit(df_scaled)\n",
    "\n",
    "# Get feature importances from XGBOD\n",
    "xgb_importances = xgb.estimators_[0].feature_importances_\n",
    "\n",
    "# Combine importances\n",
    "average_importances = (iso_importances + xgb_importances) / 2\n",
    "\n",
    "# Define the number of top features to select\n",
    "N = 10\n",
    "\n",
    "# Get the top N features\n",
    "top_N_features = df.columns[average_importances.argsort()[-N:]]\n",
    "\n",
    "# Select these features from the original dataframe\n",
    "df_reduced = df[top_N_features]\n"
   ]
  }
 ],
 "metadata": {
  "kernelspec": {
   "display_name": "Python 3 (ipykernel)",
   "language": "python",
   "name": "python3"
  },
  "language_info": {
   "codemirror_mode": {
    "name": "ipython",
    "version": 3
   },
   "file_extension": ".py",
   "mimetype": "text/x-python",
   "name": "python",
   "nbconvert_exporter": "python",
   "pygments_lexer": "ipython3",
   "version": "3.10.9"
  }
 },
 "nbformat": 4,
 "nbformat_minor": 5
}
