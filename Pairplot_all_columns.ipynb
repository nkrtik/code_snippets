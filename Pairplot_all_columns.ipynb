{
 "cells": [
  {
   "cell_type": "code",
   "execution_count": null,
   "id": "2e51d8db",
   "metadata": {},
   "outputs": [],
   "source": [
    "import seaborn as sns\n",
    "\n",
    "# Select the numeric columns from the DataFrame\n",
    "numeric_columns = df.select_dtypes(include=[float, int]).columns\n",
    "\n",
    "## PairGrid with scatter plots:\n",
    "g = sns.PairGrid(df[numeric_columns])\n",
    "g.map_diag(sns.scatterplot)\n",
    "g.map_offdiag(sns.scatterplot)\n",
    "plt.show()"
   ]
  }
 ],
 "metadata": {
  "kernelspec": {
   "display_name": "Python 3 (ipykernel)",
   "language": "python",
   "name": "python3"
  },
  "language_info": {
   "codemirror_mode": {
    "name": "ipython",
    "version": 3
   },
   "file_extension": ".py",
   "mimetype": "text/x-python",
   "name": "python",
   "nbconvert_exporter": "python",
   "pygments_lexer": "ipython3",
   "version": "3.10.9"
  }
 },
 "nbformat": 4,
 "nbformat_minor": 5
}
