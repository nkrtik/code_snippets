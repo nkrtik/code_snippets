{
 "cells": [
  {
   "cell_type": "code",
   "execution_count": null,
   "id": "78d05ca3",
   "metadata": {},
   "outputs": [],
   "source": [
    "import pandas as pd\n",
    "import matplotlib.pyplot as plt\n",
    "import seaborn as sns\n",
    "from scipy import stats\n",
    "from IPython.display import display\n",
    "import io\n",
    "import base64\n",
    "\n",
    "def plot_qq_plot_numeric_variables(df, output_file):\n",
    "    # Select only the numeric columns\n",
    "    numeric_cols = df.select_dtypes(include=[np.number]).columns\n",
    "\n",
    "    # Create a file to save the plots\n",
    "    with open(output_file, 'w') as html_output:\n",
    "        html_output.write(\"<html><body>\\n\")\n",
    "\n",
    "        for col in numeric_cols:\n",
    "            plt.figure(figsize=(6, 4))  # Smaller figure size\n",
    "            \n",
    "            # Q-Q plot\n",
    "            stats.probplot(df[col], plot=plt)\n",
    "            plt.title(f'Q-Q Plot: {col}')\n",
    "            plt.xlabel('Theoretical Quantiles')\n",
    "            plt.ylabel('Ordered Values')\n",
    "\n",
    "            # Save the plot to a bytes buffer\n",
    "            buffer = io.BytesIO()\n",
    "            plt.savefig(buffer, format='png', bbox_inches='tight')\n",
    "            plt.close()\n",
    "\n",
    "            # Convert the bytes buffer to base64 encoded string\n",
    "            buffer.seek(0)\n",
    "            plot_base64 = base64.b64encode(buffer.getvalue()).decode()\n",
    "\n",
    "            # Write the plot to the HTML file\n",
    "            html_output.write(f\"<h2>{col}</h2>\\n\")\n",
    "            html_output.write(f\"<img src='data:image/png;base64,{plot_base64}' alt='{col} Q-Q Plot'>\\n\")\n",
    "\n",
    "        html_output.write(\"</body></html>\")\n",
    "\n",
    "# Example usage\n",
    "# Assuming you have a DataFrame named 'df' containing your data\n",
    "output_file = 'output_qq_plots.html'\n",
    "plot_qq_plot_numeric_variables(df, output_file)\n"
   ]
  }
 ],
 "metadata": {
  "kernelspec": {
   "display_name": "Python 3 (ipykernel)",
   "language": "python",
   "name": "python3"
  },
  "language_info": {
   "codemirror_mode": {
    "name": "ipython",
    "version": 3
   },
   "file_extension": ".py",
   "mimetype": "text/x-python",
   "name": "python",
   "nbconvert_exporter": "python",
   "pygments_lexer": "ipython3",
   "version": "3.10.9"
  }
 },
 "nbformat": 4,
 "nbformat_minor": 5
}
