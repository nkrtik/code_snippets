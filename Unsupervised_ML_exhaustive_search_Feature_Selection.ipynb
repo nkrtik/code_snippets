{
 "cells": [
  {
   "cell_type": "markdown",
   "id": "196ce086",
   "metadata": {},
   "source": [
    "This script generates all possible subsets of the feature set, and for each subset it fits the Isolation Forest model and calculates a score (in this case, the mean anomaly score). The subset with the best score is kept.\n",
    "\n",
    "you can set min_features and max_features to control the minimum and maximum number of features in a subset. Please be aware that even with these restrictions, the number of subsets can still be quite large if you have many features, and the script can take a long time to run. Also, remember that this method might lead to overfitting because it does not take into account the correlation between features."
   ]
  },
  {
   "cell_type": "code",
   "execution_count": null,
   "id": "e92a90a7",
   "metadata": {},
   "outputs": [],
   "source": [
    "from itertools import chain, combinations\n",
    "from pyod.models.iforest import IForest\n",
    "import numpy as np\n",
    "\n",
    "def all_subsets(features, min_features, max_features):\n",
    "    # Generate all subsets of the feature set from size min_features to size max_features\n",
    "    return chain(*map(lambda x: combinations(features, x), range(min_features, min(len(features), max_features) + 1)))\n",
    "\n",
    "def calculate_score(model, data):\n",
    "    # Calculate a score for the fitted model\n",
    "    # This could be a function of model.decision_scores_, or any other metric\n",
    "    # In this example, we use the mean anomaly score\n",
    "    return np.mean(model.decision_function(data))\n",
    "\n",
    "best_score = -np.inf\n",
    "best_features = None\n",
    "min_features = 3  # Minimum number of features in a subset\n",
    "max_features = 4  # Maximum number of features in a subset\n",
    "\n",
    "for feature_subset in all_subsets(df.columns, min_features, max_features):\n",
    "    subset = df[list(feature_subset)]\n",
    "    model = IForest()\n",
    "    model.fit(subset)\n",
    "    score = calculate_score(model, subset)\n",
    "\n",
    "    if score > best_score:\n",
    "        best_score = score\n",
    "        best_features = feature_subset\n",
    "\n",
    "print(\"Best features:\", best_features)\n"
   ]
  },
  {
   "cell_type": "markdown",
   "id": "a7f9641d",
   "metadata": {},
   "source": [
    "there are several other algorithms you can use in place of Isolation Forest. Here are a few examples:\n",
    "    \n",
    "from sklearn.neighbors import LocalOutlierFactor\n",
    "model = LocalOutlierFactor()\n",
    "\n",
    "from sklearn.svm import OneClassSVM\n",
    "model = OneClassSVM()\n",
    "\n",
    "from sklearn.covariance import EllipticEnvelope\n",
    "model = EllipticEnvelope()\n",
    "\n",
    "from sklearn.cluster import DBSCAN\n",
    "model = DBSCAN()\n",
    "\n",
    "from sklearn.cluster import KMeans\n",
    "model = KMeans()\n",
    "\n",
    "from pyod.models.auto_encoder import AutoEncoder\n",
    "model = AutoEncoder()\n",
    "\n",
    "from pyod.models.hbos import HBOS\n",
    "model = HBOS()\n",
    "\n",
    "from pyod.models.knn import KNN\n",
    "model = KNN()\n",
    "\n",
    "from pyod.models.pca import PCA\n",
    "model = PCA()\n",
    "\n",
    "from pyod.models.abod import ABOD\n",
    "model = ABOD()\n"
   ]
  }
 ],
 "metadata": {
  "kernelspec": {
   "display_name": "Python 3 (ipykernel)",
   "language": "python",
   "name": "python3"
  },
  "language_info": {
   "codemirror_mode": {
    "name": "ipython",
    "version": 3
   },
   "file_extension": ".py",
   "mimetype": "text/x-python",
   "name": "python",
   "nbconvert_exporter": "python",
   "pygments_lexer": "ipython3",
   "version": "3.10.9"
  }
 },
 "nbformat": 4,
 "nbformat_minor": 5
}
